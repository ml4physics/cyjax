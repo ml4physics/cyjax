{
 "cells": [
  {
   "cell_type": "code",
   "execution_count": 1,
   "id": "9b446a80-5fd0-4ee1-96d2-346ec0ffcf32",
   "metadata": {},
   "outputs": [],
   "source": [
    "# manually set mode to 64 bits (if desired)\n",
    "from jax.config import config\n",
    "config.update(\"jax_enable_x64\", True)"
   ]
  },
  {
   "cell_type": "code",
   "execution_count": 2,
   "id": "8480a420-504b-4615-8583-dd7b48a7266e",
   "metadata": {},
   "outputs": [],
   "source": [
    "# import the usual libraries\n",
    "import jax\n",
    "import jax.numpy as jnp\n",
    "import numpy as np\n",
    "import matplotlib.pyplot as plt\n",
    "\n",
    "from functools import partial\n",
    "from matplotlib.colors import LogNorm"
   ]
  },
  {
   "cell_type": "code",
   "execution_count": 3,
   "id": "242ee2df-d668-4da1-b895-5bbc72f9b26c",
   "metadata": {},
   "outputs": [],
   "source": [
    "import cyjax"
   ]
  },
  {
   "cell_type": "code",
   "execution_count": 4,
   "id": "bc92fde1-0a9a-484d-954d-ef43ea009191",
   "metadata": {},
   "outputs": [],
   "source": [
    "# random number sequence\n",
    "rns = cyjax.util.PRNGSequence(42)"
   ]
  },
  {
   "cell_type": "markdown",
   "id": "7dc76a31-667e-4688-a622-174fe2c3b32e",
   "metadata": {},
   "source": [
    "# Donaldson's algorithm & volume"
   ]
  },
  {
   "cell_type": "markdown",
   "id": "6d1436a1-554e-4d2e-94be-dfa9c43db9bb",
   "metadata": {},
   "source": [
    "As a first application, let us estimate the volume by MC integration. \n",
    "Optionally, an estimate for the variance can also be computed (based on the variance of the integrand)."
   ]
  },
  {
   "cell_type": "code",
   "execution_count": 5,
   "id": "a67df0d6-bc69-48b5-9fe2-0bdfc4172a2d",
   "metadata": {},
   "outputs": [],
   "source": [
    "dwork = cyjax.Dwork(3)    # single parameter family\n",
    "psi = jnp.array([10+3j])  # pick some moduli values"
   ]
  },
  {
   "cell_type": "code",
   "execution_count": 6,
   "id": "69ad56cd-7e8e-4365-ab8e-1bb55c33f42d",
   "metadata": {},
   "outputs": [
    {
     "name": "stdout",
     "output_type": "stream",
     "text": [
      "0.949 ± 0.001\n"
     ]
    }
   ],
   "source": [
    "volcy, volcy_var = dwork.compute_vol(next(rns), psi, batch_size=500, var=True)\n",
    "print('%.3f ± %.3f' % (volcy, jnp.sqrt(volcy_var)))"
   ]
  },
  {
   "cell_type": "code",
   "execution_count": 7,
   "id": "09b1c7c8-6f3b-4c52-90b3-55695dbeb635",
   "metadata": {},
   "outputs": [
    {
     "name": "stdout",
     "output_type": "stream",
     "text": [
      "0.947 ± 0.001\n"
     ]
    }
   ],
   "source": [
    "volcy, volcy_var = dwork.compute_vol(next(rns), psi, batch_size=2000, var=True)\n",
    "print('%.3f ± %.3f' % (volcy, jnp.sqrt(volcy_var)))"
   ]
  },
  {
   "cell_type": "markdown",
   "id": "29628ffc-1624-4aed-b021-57487da7f86a",
   "metadata": {},
   "source": [
    "## Polynomial basis on variety\n",
    "\n",
    "For Donaldson's algorithm, we need to choose a basis of the line bundle of chosen degree on the variety.\n",
    "We cannot directly use the full set of monomials in ambient projective space since they are not independent on the variety (where any linear combination proportional to the defining polynomial vanishes).\n",
    "A basic (but not necessarily numerically optimal) algorithm for a reduced basis is implemented.\n",
    "Other methods can be added by creating a new subclass of `cyjax.donaldson.LBSections`."
   ]
  },
  {
   "cell_type": "code",
   "execution_count": 8,
   "id": "126ce120-bb5f-4eca-9dcf-f96c2bd7378b",
   "metadata": {},
   "outputs": [],
   "source": [
    "degree = 5  # use homogeneous polynomials of this degree for embedding"
   ]
  },
  {
   "cell_type": "markdown",
   "id": "bb97e12b-6942-406e-a3c5-89cfb52d3c0f",
   "metadata": {},
   "source": [
    "Size of polynomial space on full ambient projective space:"
   ]
  },
  {
   "cell_type": "code",
   "execution_count": 9,
   "id": "08f23140-aea8-4348-bb91-dbd1676502a6",
   "metadata": {},
   "outputs": [
    {
     "data": {
      "text/plain": [
       "126"
      ]
     },
     "execution_count": 9,
     "metadata": {},
     "output_type": "execute_result"
    }
   ],
   "source": [
    "mon_basis = cyjax.donaldson.MonomialBasisFull(dwork.dim_projective, degree)\n",
    "mon_basis.size"
   ]
  },
  {
   "cell_type": "markdown",
   "id": "17ac7879-01e8-4b73-a677-4e9b3978c63f",
   "metadata": {},
   "source": [
    "Donaldson's algorithm requires a basis on the variety \n",
    "(which is reduced if the degree is at least as large as the defining polynomial degree):"
   ]
  },
  {
   "cell_type": "code",
   "execution_count": 10,
   "id": "56d7c67f-9522-44e6-bba6-bae9046635e0",
   "metadata": {},
   "outputs": [
    {
     "data": {
      "text/plain": [
       "125"
      ]
     },
     "execution_count": 10,
     "metadata": {},
     "output_type": "execute_result"
    }
   ],
   "source": [
    "mon_basis = cyjax.donaldson.MonomialBasisReduced(dwork, degree, psi)\n",
    "mon_basis.size"
   ]
  },
  {
   "cell_type": "code",
   "execution_count": 11,
   "id": "ca18eaa3-fb86-44e7-b77d-b566ac15cc7f",
   "metadata": {},
   "outputs": [
    {
     "data": {
      "text/plain": [
       "(125, 5)"
      ]
     },
     "execution_count": 11,
     "metadata": {},
     "output_type": "execute_result"
    }
   ],
   "source": [
    "# for `MonomialBasisReduced`, the underlying data structure is a power matrix\n",
    "mon_basis.power_matrix.shape"
   ]
  },
  {
   "cell_type": "markdown",
   "id": "dfe5fe5f-70f0-4f22-bfdc-7ec947af637c",
   "metadata": {},
   "source": [
    "## Donaldson's algorithm"
   ]
  },
  {
   "cell_type": "code",
   "execution_count": 12,
   "id": "056fb3ba-1de3-40f9-b7ad-86575b8d25c5",
   "metadata": {},
   "outputs": [],
   "source": [
    "degree = 4\n",
    "mon_basis = cyjax.donaldson.MonomialBasisReduced(dwork, degree, psi)"
   ]
  },
  {
   "cell_type": "markdown",
   "id": "049519d3-abad-4bce-a254-dbee99b0b2c1",
   "metadata": {},
   "source": [
    "Based on the monomial basis, we instantiate the algebraic metric object which collects the different components and exposes functions for convenience."
   ]
  },
  {
   "cell_type": "code",
   "execution_count": 13,
   "id": "183d8d32-e7e8-4f09-8269-138bd052524f",
   "metadata": {},
   "outputs": [],
   "source": [
    "metric = cyjax.donaldson.AlgebraicMetric(dwork, mon_basis)"
   ]
  },
  {
   "cell_type": "code",
   "execution_count": 14,
   "id": "ccc7e947-c9b5-4fbb-88c4-2c0b08ee9227",
   "metadata": {},
   "outputs": [
    {
     "data": {
      "text/plain": [
       "(20, 20000)"
      ]
     },
     "execution_count": 14,
     "metadata": {},
     "output_type": "execute_result"
    }
   ],
   "source": [
    "# an estimate for how many MC sample points to use in integral\n",
    "n_samples = (10 * mon_basis.size**2 + 50000) // 5\n",
    "\n",
    "# compute MC integral in batches with a fixed batch size\n",
    "# otherwise would run out of memory for larger degrees\n",
    "batch_size = 1000\n",
    "\n",
    "batches = n_samples // batch_size + 1\n",
    "n_samples = batches * batch_size\n",
    "batches, n_samples"
   ]
  },
  {
   "cell_type": "code",
   "execution_count": 15,
   "id": "87ee83ff-f1f3-47fa-9de8-86734fad0d27",
   "metadata": {},
   "outputs": [],
   "source": [
    "# initial value of H-matrix\n",
    "h = jnp.eye(mon_basis.size, dtype=complex)"
   ]
  },
  {
   "cell_type": "code",
   "execution_count": 16,
   "id": "28cbb72b-b542-4cbf-a911-e0fe37e6adaf",
   "metadata": {},
   "outputs": [],
   "source": [
    "# To speed up computation, we JIT-compile the step with hyperparameters fixed\n",
    "donaldson = jax.jit(partial(\n",
    "    metric.donaldson_step,\n",
    "    params=psi, vol_cy=volcy, batches=batches, batch_size=batch_size))"
   ]
  },
  {
   "cell_type": "code",
   "execution_count": 17,
   "id": "443da5fc-915c-4d92-8394-df2b910b9c82",
   "metadata": {},
   "outputs": [],
   "source": [
    "niter = 15  # do 15 iterations of T operator\n",
    "\n",
    "h_iter = h\n",
    "\n",
    "for i in range(niter):\n",
    "    h_iter = (h_iter + h_iter.conj().T) / 2  # assure h is Hermitian\n",
    "    h_iter = donaldson(next(rns), h_iter)\n",
    "    h_iter = h_iter / jnp.max(jnp.abs(h_iter))"
   ]
  },
  {
   "cell_type": "code",
   "execution_count": 18,
   "id": "394d0492-6ac1-4e1c-8c7c-02b682feaba0",
   "metadata": {},
   "outputs": [
    {
     "data": {
      "text/plain": [
       "0.1556105662052128"
      ]
     },
     "execution_count": 18,
     "metadata": {},
     "output_type": "execute_result"
    }
   ],
   "source": [
    "# final eta accuracy\n",
    "metric.sigma_accuracy(next(rns), psi, h_iter, 1000).item()"
   ]
  },
  {
   "cell_type": "code",
   "execution_count": 19,
   "id": "cfca2878-7ede-4680-be90-bd931e4a18c0",
   "metadata": {},
   "outputs": [
    {
     "data": {
      "text/plain": [
       "0.7253018887348935"
      ]
     },
     "execution_count": 19,
     "metadata": {},
     "output_type": "execute_result"
    }
   ],
   "source": [
    "# compared to initial accuracy\n",
    "metric.sigma_accuracy(next(rns), psi, h, 1000).item()"
   ]
  },
  {
   "cell_type": "markdown",
   "id": "69cacede-7a3c-4b3b-b2dc-dd19e24beafc",
   "metadata": {
    "tags": []
   },
   "source": [
    "## Example: scan for Fermat quintic"
   ]
  },
  {
   "cell_type": "code",
   "execution_count": 20,
   "id": "0846e57d-841d-4231-bdf5-ede7e5c8ccdb",
   "metadata": {},
   "outputs": [],
   "source": [
    "fermat = cyjax.Fermat(3)\n",
    "psi = None\n",
    "\n",
    "volcy = fermat.compute_vol(next(rns), psi, batch_size=2000)"
   ]
  },
  {
   "cell_type": "code",
   "execution_count": 21,
   "id": "cb17fdba-fb92-4abc-b091-67ded1836ade",
   "metadata": {},
   "outputs": [],
   "source": [
    "from tqdm.notebook import tqdm"
   ]
  },
  {
   "cell_type": "code",
   "execution_count": 22,
   "id": "aa7a4109-a841-4147-90e4-d72fb482cd29",
   "metadata": {},
   "outputs": [],
   "source": [
    "niter = 10  # set to 15 for better results\n",
    "\n",
    "degrees = np.arange(1, 6)\n",
    "accuracies = []\n",
    "\n",
    "for degree in degrees:\n",
    "    mon_basis = cyjax.donaldson.MonomialBasisReduced(fermat, degree, None)\n",
    "    metric = cyjax.donaldson.AlgebraicMetric(fermat, mon_basis)\n",
    "    \n",
    "    n_samples = (10 * mon_basis.size**2 + 50000) // 5\n",
    "    batch_size = 1000\n",
    "    batches = n_samples // batch_size + 1\n",
    "    \n",
    "    donaldson = jax.jit(partial(\n",
    "        metric.donaldson_step,\n",
    "        params=psi, vol_cy=volcy, batches=batches, batch_size=batch_size))\n",
    "\n",
    "    h = jnp.eye(metric.sections.size, dtype=complex)\n",
    "\n",
    "    for i in range(niter):\n",
    "        h = donaldson(next(rns), h)\n",
    "        h = h / jnp.max(jnp.abs(h))\n",
    "        \n",
    "    acc = metric.sigma_accuracy(next(rns), psi, h, 1000).item()\n",
    "    accuracies.append(acc)"
   ]
  },
  {
   "cell_type": "code",
   "execution_count": 23,
   "id": "bb58db93-fa1c-43a2-8381-025dcab3d215",
   "metadata": {},
   "outputs": [
    {
     "data": {
      "image/png": "[encoded data removed]",
      "text/plain": [
       "<Figure size 432x288 with 1 Axes>"
      ]
     },
     "metadata": {
      "needs_background": "light"
     },
     "output_type": "display_data"
    }
   ],
   "source": [
    "plt.plot(degrees, accuracies, 'o:')\n",
    "plt.grid(which='both')\n",
    "plt.xlabel('degree $k$')\n",
    "plt.ylabel(r'$\\sigma$ accuracy')\n",
    "plt.show()"
   ]
  }
 ],
 "metadata": {
  "kernelspec": {
   "display_name": "Python 3 (ipykernel)",
   "language": "python",
   "name": "python3"
  },
  "language_info": {
   "codemirror_mode": {
    "name": "ipython",
    "version": 3
   },
   "file_extension": ".py",
   "mimetype": "text/x-python",
   "name": "python",
   "nbconvert_exporter": "python",
   "pygments_lexer": "ipython3",
   "version": "3.10.8"
  }
 },
 "nbformat": 4,
 "nbformat_minor": 5
}
