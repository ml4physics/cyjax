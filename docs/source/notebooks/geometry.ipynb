{
 "cells": [
  {
   "cell_type": "code",
   "execution_count": 1,
   "id": "ab86acf2-2439-4807-8c0c-3839d63e8773",
   "metadata": {},
   "outputs": [],
   "source": [
    "# manually set mode to 64 bits\n",
    "from jax.config import config\n",
    "config.update(\"jax_enable_x64\", True)"
   ]
  },
  {
   "cell_type": "code",
   "execution_count": 2,
   "id": "75c0cf64-9387-41aa-9e5d-172e58fe0257",
   "metadata": {},
   "outputs": [],
   "source": [
    "# import the usual libraries\n",
    "import jax\n",
    "import jax.numpy as jnp\n",
    "import numpy as np\n",
    "import matplotlib.pyplot as plt"
   ]
  },
  {
   "cell_type": "code",
   "execution_count": 3,
   "id": "ca7da1e0-505b-4778-9a00-2edd08f5d65e",
   "metadata": {},
   "outputs": [],
   "source": [
    "import cyjax\n",
    "\n",
    "# random number sequence\n",
    "rns = cyjax.util.PRNGSequence(42)"
   ]
  },
  {
   "cell_type": "markdown",
   "id": "4cf707f3-51d2-4e42-afb0-0fd08877a4fe",
   "metadata": {},
   "source": [
    "# Geometric quantities"
   ]
  },
  {
   "cell_type": "markdown",
   "id": "88f8bf26-058e-4de2-9664-36a0058621ad",
   "metadata": {
    "tags": []
   },
   "source": [
    "## Fubini Study metric\n",
    "First sample some points in CP^2..."
   ]
  },
  {
   "cell_type": "code",
   "execution_count": 4,
   "id": "23c9b989-37e1-445a-b19b-5d8b3b8381b8",
   "metadata": {},
   "outputs": [
    {
     "data": {
      "text/plain": [
       "((6, 2), (6,))"
      ]
     },
     "execution_count": 4,
     "metadata": {},
     "output_type": "execute_result"
    }
   ],
   "source": [
    "zs, patches = cyjax.random.uniform_projective(next(rns), 6, 2, affine=True)\n",
    "zs.shape,patches.shape"
   ]
  },
  {
   "cell_type": "markdown",
   "id": "084129a9-7a7b-4039-a316-d2ceb25959f1",
   "metadata": {},
   "source": [
    "We have a function for the Kähler potential."
   ]
  },
  {
   "cell_type": "code",
   "execution_count": 5,
   "id": "7e09c7ff-83a3-4d82-b0eb-dc906eb18dfe",
   "metadata": {},
   "outputs": [
    {
     "data": {
      "text/plain": [
       "DeviceArray([0.73866237+0.j, 0.58205621+0.j, 0.49285102+0.j,\n",
       "             0.41209627+0.j, 0.3525678 +0.j, 0.81256455+0.j],            dtype=complex128)"
      ]
     },
     "execution_count": 5,
     "metadata": {},
     "output_type": "execute_result"
    }
   ],
   "source": [
    "cyjax.fs_potential(zs)"
   ]
  },
  {
   "cell_type": "markdown",
   "id": "559b1ff3-ef69-4ca7-936c-34b2c0ea6bcb",
   "metadata": {},
   "source": [
    "As well as for the FS metric..."
   ]
  },
  {
   "cell_type": "code",
   "execution_count": 6,
   "id": "1d58d755-7117-45a3-8eb4-6d34fc5ce611",
   "metadata": {},
   "outputs": [
    {
     "name": "stdout",
     "output_type": "stream",
     "text": [
      "(6, 2, 2)\n"
     ]
    },
    {
     "data": {
      "text/plain": [
       "DeviceArray([[ 0.36113571+0.j        , -0.05611089-0.11112412j],\n",
       "             [-0.05611089+0.11112412j,  0.34486433+0.j        ]],            dtype=complex128)"
      ]
     },
     "execution_count": 6,
     "metadata": {},
     "output_type": "execute_result"
    }
   ],
   "source": [
    "gs = cyjax.fs_metric(zs)\n",
    "print(gs.shape)\n",
    "gs[0]"
   ]
  },
  {
   "cell_type": "markdown",
   "id": "efdbf994-abf0-4b89-aee6-117085e8ad9b",
   "metadata": {},
   "source": [
    "### Numerical vs analytic\n",
    "Instead of the explicit expression which is implemented in `fs_metric`, we can also construct the metric as complex hessian of the potential."
   ]
  },
  {
   "cell_type": "code",
   "execution_count": 7,
   "id": "e78e5d54-af2e-4e5a-92df-829e5a0d81cd",
   "metadata": {},
   "outputs": [],
   "source": [
    "numerical_fs_metric = cyjax.complex_hessian(cyjax.fs_potential)"
   ]
  },
  {
   "cell_type": "markdown",
   "id": "d0ae9457-2a91-4220-b01f-8bb7ae1d9f0c",
   "metadata": {},
   "source": [
    "Note that we need to give a single point as input; we don't want to differentiate all potential values with respect to all points!\n",
    "Note also that for the differentiation to work, we must give conjugate coordinates explicitly."
   ]
  },
  {
   "cell_type": "code",
   "execution_count": 8,
   "id": "8dbf3dd3-8b8a-4a06-b511-18e3895684ea",
   "metadata": {},
   "outputs": [
    {
     "data": {
      "text/plain": [
       "DeviceArray([[ 0.36113571+0.j        , -0.05611089-0.11112412j],\n",
       "             [-0.05611089+0.11112412j,  0.34486433+0.j        ]],            dtype=complex128)"
      ]
     },
     "execution_count": 8,
     "metadata": {},
     "output_type": "execute_result"
    }
   ],
   "source": [
    "gs_num = numerical_fs_metric(zs[0], zs[0].conj())\n",
    "gs_num"
   ]
  },
  {
   "cell_type": "code",
   "execution_count": 9,
   "id": "b9670ec6-0b4e-4a66-9379-5025877c2fa6",
   "metadata": {},
   "outputs": [
    {
     "name": "stdout",
     "output_type": "stream",
     "text": [
      "True\n"
     ]
    },
    {
     "data": {
      "text/plain": [
       "DeviceArray([[1.11022302e-16, 1.55158385e-17],\n",
       "             [1.55158385e-17, 5.55111512e-17]], dtype=float64)"
      ]
     },
     "execution_count": 9,
     "metadata": {},
     "output_type": "execute_result"
    }
   ],
   "source": [
    "# numerical and explicit expressions are very close\n",
    "print(jnp.allclose(gs[0], gs_num))\n",
    "jnp.abs(gs[0] - gs_num)"
   ]
  },
  {
   "cell_type": "markdown",
   "id": "857e2893-4013-40a0-9e77-7af6339adc78",
   "metadata": {},
   "source": [
    "In this particular case, both methods are comparable in speed..."
   ]
  },
  {
   "cell_type": "code",
   "execution_count": 10,
   "id": "8d7ef5d1-dca7-4e41-bc3d-b6f6246b0cfb",
   "metadata": {},
   "outputs": [
    {
     "name": "stdout",
     "output_type": "stream",
     "text": [
      "4.59 µs ± 122 ns per loop (mean ± std. dev. of 7 runs, 100 loops each)\n",
      "5.06 µs ± 1.18 µs per loop (mean ± std. dev. of 7 runs, 100 loops each)\n"
     ]
    }
   ],
   "source": [
    "# vmap to take take multiple points as a batch\n",
    "fs_metric_vmap = jax.jit(jax.vmap(numerical_fs_metric))\n",
    "fs_metric_vmap(zs, zs.conj())  # don't count compilation time\n",
    "\n",
    "cyjax.fs_metric(zs, zs.conj())\n",
    "%timeit -n 100 fs_metric_vmap(zs, zs.conj())\n",
    "%timeit -n 100 cyjax.fs_metric(zs, zs.conj())"
   ]
  },
  {
   "cell_type": "markdown",
   "id": "2ec9acf5-eabc-41bb-93a8-986be34ec54f",
   "metadata": {},
   "source": [
    "### Metric on variety\n",
    "The variety has one fewer dimension than the ambient projective space. \n",
    "Eventually, we want a metric on the variety. \n",
    "The varieties expose methods for the pullback, including the pullback of the FS metric onto the manifold."
   ]
  },
  {
   "cell_type": "code",
   "execution_count": 11,
   "id": "60d049e3-a702-4f89-9086-eb58c25608e3",
   "metadata": {},
   "outputs": [
    {
     "data": {
      "text/plain": [
       "(2, 3, 3)"
      ]
     },
     "execution_count": 11,
     "metadata": {},
     "output_type": "execute_result"
    }
   ],
   "source": [
    "dwork = cyjax.Dwork(3)\n",
    "psi = jnp.array([0.1])\n",
    "zs, patch = dwork.sample_intersect(next(rns), psi, 2, True)\n",
    "\n",
    "fs, dep = dwork.induced_fs(zs, psi, patch)  # automatically determines best dependent variable\n",
    "fs.shape"
   ]
  },
  {
   "cell_type": "markdown",
   "id": "1414dbb7-e50c-459b-93b6-f43f4eb5abaf",
   "metadata": {},
   "source": [
    "## Donaldson's algebraic metric\n",
    "The central approach here is to use the algebraic Ansatz for the Kähler potential, and thus the metric, used in Donaldson's algorithm.\n",
    "Specifically, given a set of basis section $s_\\alpha(z)$ represented as homogeneous polynomials/monomials, the Kähler potential is\n",
    "$$ K(z) = \\frac{1}{\\pi k} \\log \\left( \\sum_{\\alpha\\bar{\\beta}} s_\\alpha(z) H^{\\alpha \\bar{\\beta}} s_{\\bar{\\beta}}(\\bar{z}) \\right) $$\n",
    "Unlike in Donaldson's algorithm, in the machine learning context it is not important that the $s_\\alpha$ are independent and form a basis."
   ]
  },
  {
   "cell_type": "code",
   "execution_count": 12,
   "id": "972f4ef0-7415-4016-b80f-04051e4a49df",
   "metadata": {},
   "outputs": [],
   "source": [
    "degree = 4  # homogeneous polynomial degree of s_alpha\n",
    "# object representing s_alpha\n",
    "mon_basis = cyjax.donaldson.MonomialBasisFull(dwork.dim_projective, degree)"
   ]
  },
  {
   "cell_type": "code",
   "execution_count": 13,
   "id": "21157abc-54d5-4de6-8d89-8b3ce76c1ee6",
   "metadata": {},
   "outputs": [],
   "source": [
    "# algebraic metric\n",
    "metric = cyjax.donaldson.AlgebraicMetric(dwork, mon_basis)"
   ]
  },
  {
   "cell_type": "markdown",
   "id": "48a70e57-22b5-40a0-9648-c25548c7ef73",
   "metadata": {},
   "source": [
    "The `AlgebraicMetric` object defines functions for a number of geometric objects.\n",
    "For faster code, these functions can be jit-compiled."
   ]
  },
  {
   "cell_type": "code",
   "execution_count": 14,
   "id": "7a97953d-b671-47ff-ae02-9a1801c3fefc",
   "metadata": {},
   "outputs": [
    {
     "name": "stdout",
     "output_type": "stream",
     "text": [
      "(3, 3) 3 2\n"
     ]
    }
   ],
   "source": [
    "h = jnp.eye(metric.sections.size)\n",
    "# returns the local metric, the patch, the dependent coordinate\n",
    "g, g_patch, g_dep = metric.metric(h, zs[0], psi, patch[0])\n",
    "print(g.shape, g_patch, g_dep)"
   ]
  },
  {
   "cell_type": "markdown",
   "id": "45ed7249-32c8-4edd-9fb4-efd59f9b3faf",
   "metadata": {},
   "source": [
    "Note that `dependent` is the index in the affine coordinate vector and can thus be *numerically* the same as the patch.\n",
    "In other words, `dependent` is given as an *affine index*."
   ]
  },
  {
   "cell_type": "code",
   "execution_count": 15,
   "id": "0b450940-14d3-4b09-a090-4e111cc3c1f8",
   "metadata": {},
   "outputs": [
    {
     "data": {
      "text/plain": [
       "DeviceArray(10.61229456-1.13178276e-14j, dtype=complex128)"
      ]
     },
     "execution_count": 15,
     "metadata": {},
     "output_type": "execute_result"
    }
   ],
   "source": [
    "# note that numeric conventions for prefactors might differ\n",
    "metric.ricci_scalar(h, zs[0], psi, patch[0])"
   ]
  },
  {
   "cell_type": "markdown",
   "id": "8fa090bf-a3da-44b9-a6ee-23e1728a2adb",
   "metadata": {},
   "source": [
    "## Internals\n",
    "The ricci tensor and scalar, the eta accuracy as well as the local metric can be computed by methods of the `AlgebraicMetric` object.\n",
    "These calculations for these quantities share multiple intermediate quantities.\n",
    "To reduce duplication of code and to make each step testable, internally the computation relies on a `GeometricObjects` class, which represents a lazily-evaluated computational graph.\n",
    "This means functions for (intermediate) quantities are defined which are recursively evaluated based on the requested objects.\n",
    "While there is already little overhead from this, the cost can be fully absorbed by defining and jit-compiling particular functions which internally create the `GeometricObjects` computational graph.\n",
    "That is what the `AlgebraicMetric` class does."
   ]
  },
  {
   "cell_type": "code",
   "execution_count": 16,
   "id": "abef0f9d-6662-4156-a1fc-de3609294f99",
   "metadata": {},
   "outputs": [],
   "source": [
    "# note that the object itself is not automatically vmap-ed so a single point z should be passed\n",
    "obj = cyjax.donaldson.GeometricObjects(h, zs[0], psi, dwork, metric.sections, patch=patch[0])"
   ]
  },
  {
   "cell_type": "code",
   "execution_count": 17,
   "id": "532dd87d-4cf4-416d-a61b-f979b8fc34b4",
   "metadata": {},
   "outputs": [
    {
     "data": {
      "text/plain": [
       "DeviceArray(2, dtype=int64)"
      ]
     },
     "execution_count": 17,
     "metadata": {},
     "output_type": "execute_result"
    }
   ],
   "source": [
    "# quantities are computed as requested and cached to avoid re-computation\n",
    "obj.dependent"
   ]
  },
  {
   "cell_type": "code",
   "execution_count": 18,
   "id": "555def4d-c987-4584-a6b3-1192e1eede20",
   "metadata": {},
   "outputs": [
    {
     "data": {
      "text/plain": [
       "DeviceArray(9.79441253+7.64414092e-17j, dtype=complex128)"
      ]
     },
     "execution_count": 18,
     "metadata": {},
     "output_type": "execute_result"
    }
   ],
   "source": [
    "obj.psi  # the argument inside the log(...)"
   ]
  },
  {
   "cell_type": "code",
   "execution_count": 19,
   "id": "27132073-464d-461a-a2ae-9040aebcce2d",
   "metadata": {},
   "outputs": [
    {
     "data": {
      "text/plain": [
       "DeviceArray(0.01508826-2.0981287e-19j, dtype=complex128)"
      ]
     },
     "execution_count": 19,
     "metadata": {},
     "output_type": "execute_result"
    }
   ],
   "source": [
    "obj.eta"
   ]
  },
  {
   "cell_type": "markdown",
   "id": "65e179c5-eb17-48ad-8784-0b581b30efbd",
   "metadata": {},
   "source": [
    "### Comparison with autodiff\n",
    "The metric and ricci tensor are both given in terms of (anti-) holomorphic derivatives of the Kähler potential.\n",
    "Because, for holomorphic derivatives to work, all functions have to take explicit holomorphic and anti-holomorphic inputs, autodiff has to compute duplicate intermediate quantities (which we can identify as complex conjugates).\n",
    "The manual implementation in `GeometricObjects` is thus more efficient.\n",
    "Nonetheless, we can check the implementation using atuomatic differentiation for comparison."
   ]
  },
  {
   "cell_type": "code",
   "execution_count": 20,
   "id": "cc1505c6-e368-43c1-9017-e24570550f2b",
   "metadata": {},
   "outputs": [],
   "source": [
    "z = zs[0]\n",
    "patch = patch[0]\n",
    "z_c = jnp.conj(z)"
   ]
  },
  {
   "cell_type": "code",
   "execution_count": 21,
   "id": "53147511-e674-4264-9496-233bf35e5e8e",
   "metadata": {},
   "outputs": [],
   "source": [
    "# define an explicit Kahler potential function\n",
    "\n",
    "@jax.jit\n",
    "def kahler(z, z_c, patch, h, psi):\n",
    "    s = metric.sections(z, patch)\n",
    "    # know internal coefficients are real otherwise we would\n",
    "    # also have to conjugate those...\n",
    "    s_c = metric.sections(z_c, patch)\n",
    "    psi = jnp.einsum('i,ij,j', s, h, s_c)\n",
    "    return jnp.log(psi) / (jnp.pi * metric.degree)"
   ]
  },
  {
   "cell_type": "code",
   "execution_count": 23,
   "id": "3d8423bc-5173-44f6-a1b6-b8886735fc6d",
   "metadata": {},
   "outputs": [
    {
     "data": {
      "text/plain": [
       "DeviceArray(0.18158084+9.24743137e-19j, dtype=complex128)"
      ]
     },
     "execution_count": 23,
     "metadata": {},
     "output_type": "execute_result"
    }
   ],
   "source": [
    "kahler(z, z_c, patch, h, psi)"
   ]
  },
  {
   "cell_type": "markdown",
   "id": "d776d66c-21c7-4954-8b83-e1876f30ab07",
   "metadata": {},
   "source": [
    "The metric is now given by the Hessian $\\hat{g} = \\partial_i \\partial_{\\bar{\\jmath}} K(z)$.\n",
    "However, if these derivatives are taken with respect to ambient projective coordinates, we still need to compute the pullback via the Jacobian of the embedding of the variety (given by the defining equation)."
   ]
  },
  {
   "cell_type": "code",
   "execution_count": 24,
   "id": "7bd120b5-c7f8-42a5-bb13-88aff7849d95",
   "metadata": {},
   "outputs": [],
   "source": [
    "@jax.jit\n",
    "def metric_loc(z, z_c, patch, h, psi):\n",
    "    metric_proj = cyjax.complex_hessian(kahler)(z, z_c, patch, h, psi)\n",
    "    metric_loc, _ = dwork.induced_metric(metric_proj, z, psi, patch, z_c)\n",
    "    return metric_loc"
   ]
  },
  {
   "cell_type": "code",
   "execution_count": 25,
   "id": "cf167e44-230d-4555-9dc1-5cd1da0034c7",
   "metadata": {},
   "outputs": [
    {
     "data": {
      "text/plain": [
       "DeviceArray(True, dtype=bool)"
      ]
     },
     "execution_count": 25,
     "metadata": {},
     "output_type": "execute_result"
    }
   ],
   "source": [
    "g = metric_loc(z, z_c, patch, h, psi)\n",
    "# compare with other implementation\n",
    "jnp.allclose(g, obj.g_loc)"
   ]
  },
  {
   "cell_type": "markdown",
   "id": "69e02dad-de9d-4ab0-9c16-6db474d25122",
   "metadata": {},
   "source": [
    "The ricci curvature tensor is now given by $-\\partial_i \\partial_{\\bar{\\jmath}} \\log \\det g$."
   ]
  },
  {
   "cell_type": "code",
   "execution_count": 26,
   "id": "28979e2d-1259-4bcb-b736-f237433415bd",
   "metadata": {},
   "outputs": [],
   "source": [
    "def logdet(z, z_c, patch, h, psi):\n",
    "    g = metric_loc(z, z_c, patch, h, psi)\n",
    "    return jnp.log(jnp.linalg.det(g))\n",
    "\n",
    "@jax.jit\n",
    "def ricci_tensor(z, z_c, patch):\n",
    "    ricci_proj = -cyjax.complex_hessian(logdet)(z, z_c, patch, h, psi)\n",
    "    ricci_loc, _ = dwork.induced_metric(ricci_proj, z, psi, patch, z_c)\n",
    "    return ricci_loc"
   ]
  },
  {
   "cell_type": "code",
   "execution_count": 27,
   "id": "59176224-b93f-4f93-9b41-fd4885755bda",
   "metadata": {},
   "outputs": [
    {
     "data": {
      "text/plain": [
       "DeviceArray(True, dtype=bool)"
      ]
     },
     "execution_count": 27,
     "metadata": {},
     "output_type": "execute_result"
    }
   ],
   "source": [
    "ricci = ricci_tensor(z, z_c, patch)\n",
    "jnp.allclose(ricci, obj.ricci_loc)"
   ]
  },
  {
   "cell_type": "markdown",
   "id": "d6486be2-6043-41f2-adb3-69ae7ce9a418",
   "metadata": {},
   "source": [
    "We can now compare the speed of the manual implementation with the autodiff version here."
   ]
  },
  {
   "cell_type": "code",
   "execution_count": 28,
   "id": "44f2586c-faee-42d7-9702-38191d723c2d",
   "metadata": {},
   "outputs": [
    {
     "name": "stdout",
     "output_type": "stream",
     "text": [
      "autodiff time:\n",
      "311 µs ± 1.53 µs per loop (mean ± std. dev. of 7 runs, 1,000 loops each)\n",
      "manual implementation:\n",
      "186 µs ± 196 ns per loop (mean ± std. dev. of 7 runs, 1,000 loops each)\n"
     ]
    }
   ],
   "source": [
    "ricci_fn = jax.jit(metric.ricci)\n",
    "ricci_fn(h, z, psi, patch)\n",
    "\n",
    "print('autodiff time:')\n",
    "%timeit -n 1000 ricci_tensor(z, z_c, patch).block_until_ready()\n",
    "print('manual implementation:')\n",
    "%timeit -n 1000 ricci_fn(h, z, psi, patch)[0].block_until_ready()"
   ]
  }
 ],
 "metadata": {
  "kernelspec": {
   "display_name": "Python 3 (ipykernel)",
   "language": "python",
   "name": "python3"
  },
  "language_info": {
   "codemirror_mode": {
    "name": "ipython",
    "version": 3
   },
   "file_extension": ".py",
   "mimetype": "text/x-python",
   "name": "python",
   "nbconvert_exporter": "python",
   "pygments_lexer": "ipython3",
   "version": "3.10.8"
  }
 },
 "nbformat": 4,
 "nbformat_minor": 5
}
