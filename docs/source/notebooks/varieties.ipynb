{
 "cells": [
  {
   "cell_type": "code",
   "execution_count": 1,
   "id": "6298c43c-0c4e-4bee-a88e-69a36536c7b5",
   "metadata": {},
   "outputs": [],
   "source": [
    "# manually set mode to 64 bits\n",
    "from jax.config import config\n",
    "config.update(\"jax_enable_x64\", True)"
   ]
  },
  {
   "cell_type": "code",
   "execution_count": 2,
   "id": "e2fb6598-89e0-473a-a04c-7644d5609007",
   "metadata": {},
   "outputs": [],
   "source": [
    "# import the usual libraries\n",
    "import jax\n",
    "import jax.numpy as jnp\n",
    "import numpy as np\n",
    "import matplotlib.pyplot as plt"
   ]
  },
  {
   "cell_type": "code",
   "execution_count": 3,
   "id": "2af7aac1-5f47-4578-a5ab-7e5aa2228555",
   "metadata": {},
   "outputs": [],
   "source": [
    "import cyjax\n",
    "\n",
    "# random number sequence\n",
    "rns = cyjax.util.PRNGSequence(42)"
   ]
  },
  {
   "cell_type": "markdown",
   "id": "a3c5b627-906a-4471-8ccd-7fd97b977340",
   "metadata": {},
   "source": [
    "# Algebraic varieties\n",
    "The implementation of varieties delegates most work to the `HomPoly` class which itself is a `Poly`.\n",
    "These, by default, build on [sympy](https://sympy.org/) and add some functionality we need in this application.\n",
    "Other internal representations, e.g. not making use of sympy at all, could be implemented by creating a new subclass of `Poly` and respectively `HomPoly`.\n",
    "\n",
    "Besides `Dwork` and `Fermat` varieties, which are given for convenience, other varieties can be easily specified by giving their defining variety in a sympy-style string."
   ]
  },
  {
   "cell_type": "code",
   "execution_count": 4,
   "id": "993f12f2-0888-4f60-ae43-b160f6de76f9",
   "metadata": {},
   "outputs": [
    {
     "data": {
      "text/latex": [
       "$\\operatorname{Dwork}(dim=3) \\subset \\mathbb{CP}^4: \\displaystyle \\operatorname{DworkPoly}([z_{0},z_{1},z_{2},z_{3},z_{4}], \\text{params}=[\\psi]) = - 5 \\psi z_{0} z_{1} z_{2} z_{3} z_{4} + z_{0}^{5} + z_{1}^{5} + z_{2}^{5} + z_{3}^{5} + z_{4}^{5}$"
      ],
      "text/plain": [
       "Dwork(dim=3) in CP^4: DworkPoly([z_0, z_1, z_2, z_3, z_4], params=[psi]) = -5*psi*z0*z1*z2*z3*z4 + z0**5 + z1**5 + z2**5 + z3**5 + z4**5"
      ]
     },
     "execution_count": 4,
     "metadata": {},
     "output_type": "execute_result"
    }
   ],
   "source": [
    "cyjax.Dwork()"
   ]
  },
  {
   "cell_type": "code",
   "execution_count": 5,
   "id": "fbeb3cbb-0088-46cc-96c3-b6b34fbf853b",
   "metadata": {},
   "outputs": [
    {
     "data": {
      "text/latex": [
       "$\\operatorname{Fermat}(dim=3) \\subset \\mathbb{CP}^4: \\displaystyle \\operatorname{FermatPoly}([z_{0},z_{1},z_{2},z_{3},z_{4}]) = z_{0}^{5} + z_{1}^{5} + z_{2}^{5} + z_{3}^{5} + z_{4}^{5}$"
      ],
      "text/plain": [
       "Fermat(dim=3) in CP^4: FermatPoly([z_0, z_1, z_2, z_3, z_4]) = z0**5 + z1**5 + z2**5 + z3**5 + z4**5"
      ]
     },
     "execution_count": 5,
     "metadata": {},
     "output_type": "execute_result"
    }
   ],
   "source": [
    "cyjax.Fermat()  # special case where psi is always 0"
   ]
  },
  {
   "cell_type": "markdown",
   "id": "f31fe8a4-69da-41e7-a61f-0b8013e58782",
   "metadata": {},
   "source": [
    "## Polynomials\n",
    "Internally, the varieties rely a lot on the `Poly` and `HomPoly` classes.\n",
    "However, it may not be necessary to interact with them directly in some cases as most functionality is wrapped by the variety class and managed automatically."
   ]
  },
  {
   "cell_type": "code",
   "execution_count": 6,
   "id": "e9fd6adc-92ca-4ac7-aadd-9ba59f09b94a",
   "metadata": {},
   "outputs": [
    {
     "data": {
      "text/latex": [
       "$\\displaystyle \\operatorname{HomPoly}([z_{0},z_{1},z_{2},z_{3},z_{4}], \\text{params}=[\\psi]) = - 5 \\psi z_{0} z_{1} z_{2} z_{3} z_{4} + z_{0}^{5} + z_{1}^{5} + z_{2}^{5} + z_{3}^{5} + z_{4}^{5}$"
      ],
      "text/plain": [
       "HomPoly([z_0, z_1, z_2, z_3, z_4], params=[psi]) = -5*psi*z0*z1*z2*z3*z4 + z0**5 + z1**5 + z2**5 + z3**5 + z4**5"
      ]
     },
     "execution_count": 6,
     "metadata": {},
     "output_type": "execute_result"
    }
   ],
   "source": [
    "# Always use *.from_sympy to create new instances in the most convenient way!\n",
    "poly = cyjax.HomPoly.from_sympy(\n",
    "    'z_0**5 + z_1**5 + z_2**5 + z_3**5 + z_4**5 - 5 * psi * z_0 * z_1 * z_2 * z_3 * z_4',\n",
    "    variable_names=['z'],\n",
    "    # can also be automatically detected in this case\n",
    "    variable_dim=[5],\n",
    "    # if omitted, automatically detected and ordered alphabetically\n",
    "    parameters=['psi'],\n",
    ")\n",
    "\n",
    "poly"
   ]
  },
  {
   "cell_type": "code",
   "execution_count": 7,
   "id": "39781df4-3917-4f6f-92f9-59d6d8100393",
   "metadata": {},
   "outputs": [
    {
     "data": {
      "text/latex": [
       "$\\displaystyle \\operatorname{Poly}([z_{0},z_{2},z_{3},z_{4}], \\text{params}=[\\psi]) = - 5 \\psi z_{0} z_{2} z_{3} z_{4} + z_{0}^{5} + z_{2}^{5} + z_{3}^{5} + z_{4}^{5} + 1$"
      ],
      "text/plain": [
       "Poly([z_0, z_2, z_3, z_4], params=[psi]) = -5*psi*z0*z2*z3*z4 + z0**5 + z2**5 + z3**5 + z4**5 + 1"
      ]
     },
     "execution_count": 7,
     "metadata": {},
     "output_type": "execute_result"
    }
   ],
   "source": [
    "# affine polynomials are implicitly defined\n",
    "# and generated on the fly\n",
    "poly.affine_poly(patch=1)"
   ]
  },
  {
   "cell_type": "code",
   "execution_count": 8,
   "id": "b56b3755-9952-49fd-8556-f2648db17608",
   "metadata": {},
   "outputs": [
    {
     "data": {
      "text/plain": [
       "612.0"
      ]
     },
     "execution_count": 8,
     "metadata": {},
     "output_type": "execute_result"
    }
   ],
   "source": [
    "# can evaluate for single set of values\n",
    "z = np.array([1, 2, 3, 2, 4])\n",
    "params = np.array([3])\n",
    "poly(z, params)"
   ]
  },
  {
   "cell_type": "code",
   "execution_count": 9,
   "id": "be26d6ab-d6de-499f-9771-86a30f5cdf06",
   "metadata": {},
   "outputs": [
    {
     "data": {
      "text/plain": [
       "612.0"
      ]
     },
     "execution_count": 9,
     "metadata": {},
     "output_type": "execute_result"
    }
   ],
   "source": [
    "# evaluate in affine patch\n",
    "z = np.array([2, 3, 2, 4])\n",
    "params = np.array([3])\n",
    "poly(z, params, patch=0)"
   ]
  },
  {
   "cell_type": "markdown",
   "id": "1443ccd5-97ff-404a-84df-d31c00538c14",
   "metadata": {},
   "source": [
    "When calling a `Poly` object to evaluate it, inputs can be numeric or symbolic.\n",
    "However, they have to be a single set of values and cannot have a batch dimension.\n",
    "A JAX-compatible evaluation function which properly handles batch dimension can be generated using the `transform_eval` method.\n",
    "Varieties automatically do this and expose the fast method as `defining`.\n",
    "The underlying polynomial of a variety can still be accessed via the `defining_poly` attribute."
   ]
  },
  {
   "cell_type": "markdown",
   "id": "7e052a39-5d1c-43e0-b025-0d064424ef47",
   "metadata": {},
   "source": [
    "## Custom varieties\n",
    "Although `HomPoly` can handle multiple complex projective spaces, currently only varieties with a single defining equation in a singel ambient projective space are supported.\n",
    "\n",
    "Any defining polynomial can be used, with an arbitrary combination of parameters (corresponding to complex moduli)."
   ]
  },
  {
   "cell_type": "code",
   "execution_count": 10,
   "id": "46e67b0c-ef44-4b19-8be3-31643a8a0da6",
   "metadata": {},
   "outputs": [
    {
     "data": {
      "text/latex": [
       "$\\operatorname{VarietySingle}(dim=3) \\subset \\mathbb{CP}^4: \\displaystyle \\operatorname{HomPoly}([z_{0},z_{1},z_{2},z_{3},z_{4}], \\text{params}=[a,\\psi]) = a z_{0} z_{4}^{4} - 5 \\psi z_{0} z_{1} z_{2} z_{3} z_{4} + z_{0}^{5} + z_{1}^{5} + z_{2}^{5} + z_{3}^{5} + z_{4}^{5}$"
      ],
      "text/plain": [
       "VarietySingle(dim=3) in CP^4: HomPoly([z_0, z_1, z_2, z_3, z_4], params=[a, psi]) = a*z0*z4**4 - 5*psi*z0*z1*z2*z3*z4 + z0**5 + z1**5 + z2**5 + z3**5 + z4**5"
      ]
     },
     "execution_count": 10,
     "metadata": {},
     "output_type": "execute_result"
    }
   ],
   "source": [
    "# this is a manual version of the Dwork varieties plus an additional parameter\n",
    "mnfd = cyjax.VarietySingle.from_sympy(\n",
    "    'z_0**5 + z_1**5 + z_2**5 + z_3**5 + z_4**5 - 5 * psi * z_0 * z_1 * z_2 * z_3 * z_4 + a * z_4**4 * z_0')\n",
    "mnfd"
   ]
  },
  {
   "cell_type": "code",
   "execution_count": 11,
   "id": "c1b2bb6d-6fe1-4f83-a544-aece32c84b3c",
   "metadata": {},
   "outputs": [],
   "source": [
    "# the most basic thing to do is to evaluate the defining equation\n",
    "zs, patch = cyjax.random.uniform_projective(next(rns), 200, mnfd.dim_projective)\n",
    "params = jnp.array([0.1, 1.0 + 0.5j])"
   ]
  },
  {
   "cell_type": "code",
   "execution_count": 12,
   "id": "ff9d7301-01c1-4073-9cb1-0b7b3abe4faa",
   "metadata": {},
   "outputs": [
    {
     "data": {
      "text/plain": [
       "(200,)"
      ]
     },
     "execution_count": 12,
     "metadata": {},
     "output_type": "execute_result"
    }
   ],
   "source": [
    "mnfd.defining(zs, params, patch).shape"
   ]
  }
 ],
 "metadata": {
  "kernelspec": {
   "display_name": "Python 3 (ipykernel)",
   "language": "python",
   "name": "python3"
  },
  "language_info": {
   "codemirror_mode": {
    "name": "ipython",
    "version": 3
   },
   "file_extension": ".py",
   "mimetype": "text/x-python",
   "name": "python",
   "nbconvert_exporter": "python",
   "pygments_lexer": "ipython3",
   "version": "3.10.8"
  }
 },
 "nbformat": 4,
 "nbformat_minor": 5
}
