{
 "cells": [
  {
   "cell_type": "code",
   "execution_count": 1,
   "id": "82e2090e-3ba7-4507-870d-aeed4babacad",
   "metadata": {},
   "outputs": [],
   "source": [
    "# import the usual libraries\n",
    "import jax\n",
    "import jax.numpy as jnp\n",
    "import numpy as np\n",
    "import matplotlib.pyplot as plt\n",
    "\n",
    "import optax\n",
    "import flax.linen as nn\n",
    "\n",
    "from functools import partial\n",
    "from matplotlib.colors import LogNorm"
   ]
  },
  {
   "cell_type": "code",
   "execution_count": 2,
   "id": "d0a39690-f0b7-44e3-9901-8d22931c2a30",
   "metadata": {},
   "outputs": [],
   "source": [
    "import cyjax"
   ]
  },
  {
   "cell_type": "code",
   "execution_count": 3,
   "id": "4829ac48-26b8-4372-ba6c-e0cf19b8e6da",
   "metadata": {},
   "outputs": [],
   "source": [
    "# random number sequence for convenience\n",
    "rns = cyjax.util.PRNGSequence(42)"
   ]
  },
  {
   "cell_type": "markdown",
   "id": "8eeac2f6-3587-45e4-a4be-adb537fb74d1",
   "metadata": {},
   "source": [
    "# Moduli dependent machine learning\n",
    "First, we set up the problem by choosing the parametrized family of varities and a monomial basis for which we try to learn $H$."
   ]
  },
  {
   "cell_type": "code",
   "execution_count": 4,
   "id": "ff693bd1-4160-41c8-86b9-235cdb52e888",
   "metadata": {},
   "outputs": [],
   "source": [
    "dwork = cyjax.Dwork(3)\n",
    "degree = 3\n",
    "\n",
    "metric = cyjax.donaldson.AlgebraicMetric(\n",
    "    dwork,\n",
    "    cyjax.donaldson.MonomialBasisFull(dwork.dim_projective, degree))"
   ]
  },
  {
   "cell_type": "markdown",
   "id": "c4cc798f-8491-4ba0-9143-a5c3d2dd3887",
   "metadata": {},
   "source": [
    "## Network architecture\n",
    "\n",
    "The aim of our network is to learn a map $\\psi \\rightarrow H$ such that the corresponding algebraic metric is close to Ricci flat.\n",
    "The network here is very simple and depends only on the absolute value of $\\psi$.\n",
    "It is meant for illustrative purposes.\n",
    "A more realistic version can be found under the `scripts` folder in the repository."
   ]
  },
  {
   "cell_type": "code",
   "execution_count": 5,
   "id": "63a34973-9548-4494-ae5d-71ccce2dcdbe",
   "metadata": {},
   "outputs": [],
   "source": [
    "class HNet(nn.Module):\n",
    "    basis_size: int\n",
    "    layer_sizes = (100, 100)\n",
    "    init_fluctuation: float = 1e-3\n",
    "        \n",
    "    @nn.compact\n",
    "    def __call__(self, psis):\n",
    "        psis = jnp.atleast_1d(psis)\n",
    "        upper_count = self.basis_size * (self.basis_size - 1) // 2\n",
    "        \n",
    "        x = jnp.abs(psis).reshape(-1, 1)\n",
    "        for features in self.layer_sizes:\n",
    "            x = nn.Dense(features, dtype=x.dtype)(x)\n",
    "            x = nn.sigmoid(x)\n",
    "\n",
    "        # final linear layer to H-parameters\n",
    "        h_params = nn.Dense(\n",
    "            self.basis_size**2, name='final_dense',\n",
    "            dtype=x.dtype,\n",
    "            # initialize such that H starts close to the identity\n",
    "            bias_init=lambda k, s, d: cyjax.ml.hermitian_param_init(\n",
    "                k, self.basis_size, self.init_fluctuation),\n",
    "            kernel_init=nn.initializers.constant(0., dtype=x.dtype),\n",
    "        )(x)\n",
    "\n",
    "        if psis.shape == (1,):\n",
    "            return jnp.squeeze(h_params, 0)\n",
    "        return h_params"
   ]
  },
  {
   "cell_type": "code",
   "execution_count": 6,
   "id": "f73e088c-7136-4360-a0cd-121a48090f52",
   "metadata": {},
   "outputs": [],
   "source": [
    "model = HNet(metric.sections.size)\n",
    "\n",
    "psi = jnp.array(0.)\n",
    "h_params, params = model.init_with_output(next(rns), psi)"
   ]
  },
  {
   "cell_type": "code",
   "execution_count": 7,
   "id": "36cde43b-382e-4ce7-92be-285bffd4ca3a",
   "metadata": {},
   "outputs": [
    {
     "data": {
      "image/png": "[encoded data removed]",
      "text/plain": [
       "<Figure size 432x288 with 1 Axes>"
      ]
     },
     "metadata": {
      "needs_background": "light"
     },
     "output_type": "display_data"
    }
   ],
   "source": [
    "# initialization is close to (proprotional to) identity\n",
    "h = cyjax.ml.cholesky_from_param(h_params)\n",
    "plt.imshow(jnp.abs(h))\n",
    "plt.show()"
   ]
  },
  {
   "cell_type": "markdown",
   "id": "424c1e9d-8832-4f92-ba88-e38f32d83551",
   "metadata": {
    "tags": []
   },
   "source": [
    "## Loss function\n",
    "For convenience, sampling is integrated into the loss function here.\n",
    "First, we define a loss for a fixed moduli value.\n",
    "Then, we define a batched loss which considers multiple moduli values per step."
   ]
  },
  {
   "cell_type": "code",
   "execution_count": 8,
   "id": "08b5ccee-95b4-4ae1-b9a1-f012ba6baeda",
   "metadata": {},
   "outputs": [],
   "source": [
    "def eta_loss(key, psi, h_param, sample_size):\n",
    "    \"\"\"Compute variance-based eta loss.\"\"\"\n",
    "    # create sample for MC integral\n",
    "    (zs, patch), weights = dwork.sample_intersect(\n",
    "        key, psi, sample_size, weights=True, affine=True)\n",
    "    \n",
    "    h = cyjax.ml.cholesky_from_param(h_param)\n",
    "\n",
    "    etas = metric.eta(h, zs, psi, patch).real\n",
    "    eta_mean = jnp.mean(weights * jax.lax.stop_gradient(etas)) / jnp.mean(weights)\n",
    "\n",
    "    loss = (etas / eta_mean - 1) ** 2\n",
    "    loss *= weights\n",
    "    loss = jnp.mean(loss)\n",
    "    \n",
    "    # if g is not pos. def. eta may be negative -> penalty\n",
    "    loss += jnp.mean(jnp.log(jnp.where(etas < 0, etas, 0)**2 + 1))\n",
    "\n",
    "    return loss"
   ]
  },
  {
   "cell_type": "code",
   "execution_count": 9,
   "id": "a3ef6579-16ef-4d24-acf5-16750bd7426d",
   "metadata": {},
   "outputs": [],
   "source": [
    "# sample multiple values for psi & call model\n",
    "def loss_function(params, key, sample_size=100, psi_rad=10, batches=4):\n",
    "    key, k1 = jax.random.split(key)\n",
    "    psis = cyjax.random.uniform_angle(k1, (batches, 1), 0, psi_rad)\n",
    "    h_params = model.apply(params, psis)\n",
    "    loss = jax.vmap(eta_loss, (0, 0, 0, None))(\n",
    "        jax.random.split(key, batches),\n",
    "        psis,\n",
    "        h_params,\n",
    "        sample_size)\n",
    "    return jnp.mean(loss)"
   ]
  },
  {
   "cell_type": "code",
   "execution_count": 10,
   "id": "4d09271f-a81c-48b1-8890-61b97c8cdb53",
   "metadata": {},
   "outputs": [
    {
     "data": {
      "text/plain": [
       "DeviceArray(0.6032229, dtype=float32)"
      ]
     },
     "execution_count": 10,
     "metadata": {},
     "output_type": "execute_result"
    }
   ],
   "source": [
    "loss_function(params, next(rns))"
   ]
  },
  {
   "cell_type": "markdown",
   "id": "9a5d081f-9e06-451d-b7b5-e33938f3161b",
   "metadata": {},
   "source": [
    "## Evaluating the accuracy\n",
    "The output of the loss function is effectively an average measure (randomly chosen) over the parameter range.\n",
    "We can gain sligthly more insight by evaluating the accuracy over a fixed range of parameters.\n",
    "To make evaluation easy, we then show the loss in relation to $|\\psi|$ together with the max/min obtained for different complex angles."
   ]
  },
  {
   "cell_type": "code",
   "execution_count": 11,
   "id": "f8955735-38fe-47b2-a947-c704b83e948e",
   "metadata": {},
   "outputs": [],
   "source": [
    "# choose a range for |psi|\n",
    "psi_rad = 100"
   ]
  },
  {
   "cell_type": "code",
   "execution_count": 12,
   "id": "f193203d-e6de-45c7-8b2b-a750e70c8fd2",
   "metadata": {},
   "outputs": [],
   "source": [
    "# 10 radii & 10 complex angles\n",
    "psi_radii = jnp.linspace(1, psi_rad, 5)\n",
    "psi_eval = jnp.exp(1j * jnp.arange(0, 2*jnp.pi, jnp.pi/5)) * psi_radii[:, None]\n",
    "psi_eval = psi_eval.reshape(-1, 1)"
   ]
  },
  {
   "cell_type": "code",
   "execution_count": 13,
   "id": "716aa9e3-7fff-44cd-bc38-3815e77371e6",
   "metadata": {},
   "outputs": [],
   "source": [
    "@jax.jit\n",
    "def _accuracies(key, h_par, psi):\n",
    "    h = cyjax.ml.cholesky_from_param(h_par)\n",
    "    psi = jnp.atleast_1d(psi)\n",
    "    return metric.sigma_accuracy(key, psi, h, 500)\n",
    "\n",
    "@jax.jit\n",
    "def eval_accuracy(key, params):\n",
    "    sig = jax.vmap(_accuracies, (None, 0, 0))(\n",
    "        key, model.apply(params, psi_eval), psi_eval)\n",
    "    sig = sig.reshape(5, 10)\n",
    "    mean = jnp.mean(sig, 1)\n",
    "    smin = jnp.max(sig, 1)\n",
    "    smax = jnp.min(sig, 1)\n",
    "    return mean, smin, smax"
   ]
  },
  {
   "cell_type": "code",
   "execution_count": 14,
   "id": "ac3fccbb-e709-41a5-8fb7-2864a5ae3f3f",
   "metadata": {},
   "outputs": [],
   "source": [
    "smean, smin, smax = eval_accuracy(next(rns), params)"
   ]
  },
  {
   "cell_type": "code",
   "execution_count": 15,
   "id": "e274e6ee-86ed-42e3-a898-0e0d18f90b23",
   "metadata": {},
   "outputs": [
    {
     "data": {
      "image/png": "[encoded data removed]",
      "text/plain": [
       "<Figure size 432x288 with 1 Axes>"
      ]
     },
     "metadata": {
      "needs_background": "light"
     },
     "output_type": "display_data"
    }
   ],
   "source": [
    "plt.plot(psi_radii, smean, '.-', color='C0')\n",
    "plt.plot(psi_radii, smin, '--', color='C1')\n",
    "plt.plot(psi_radii, smax, '--', color='C1')\n",
    "plt.xlabel(r'$|\\psi|$')\n",
    "plt.ylabel('$\\sigma$ accuracy')\n",
    "plt.show()"
   ]
  },
  {
   "cell_type": "markdown",
   "id": "7365e9b5-3ecb-4ccd-975a-813ba2bb7116",
   "metadata": {},
   "source": [
    "## Training\n",
    "\n",
    "Note: The example here is for illustrative purposes and is meant to run fast rather than give optimal results."
   ]
  },
  {
   "cell_type": "code",
   "execution_count": 16,
   "id": "338e580c-5f5c-4ffd-a8ce-afc3633791c0",
   "metadata": {},
   "outputs": [],
   "source": [
    "from tqdm import tqdm"
   ]
  },
  {
   "cell_type": "code",
   "execution_count": 17,
   "id": "8b186912-79b1-4c9b-8946-2ddc53ad6a15",
   "metadata": {},
   "outputs": [],
   "source": [
    "opt = optax.adam(1e-3)\n",
    "opt_state = opt.init(params)"
   ]
  },
  {
   "cell_type": "code",
   "execution_count": 18,
   "id": "f4081c01-0cdd-461c-8acf-3a292f2aff2c",
   "metadata": {},
   "outputs": [],
   "source": [
    "@jax.jit\n",
    "def update_step(key, params, opt_state):\n",
    "    grads = jax.grad(loss_function)(params, key)\n",
    "    updates, opt_state = opt.update(grads, opt_state)\n",
    "    params = optax.apply_updates(params, updates)\n",
    "    return params, opt_state"
   ]
  },
  {
   "cell_type": "code",
   "execution_count": 19,
   "id": "105ba0c3-39ee-44cb-baaa-4f67304e2f0b",
   "metadata": {},
   "outputs": [
    {
     "data": {
      "image/png": "[encoded data removed]",
      "text/plain": [
       "<Figure size 432x288 with 1 Axes>"
      ]
     },
     "metadata": {},
     "output_type": "display_data"
    },
    {
     "name": "stderr",
     "output_type": "stream",
     "text": [
      "100%|██████████████████████████████████████████████████████████████████████████████████████████████████████████| 100/100 [00:03<00:00, 26.52it/s]\n"
     ]
    }
   ],
   "source": [
    "n_steps = 100\n",
    "plot_every = 50\n",
    "\n",
    "# plotting of accuracies to monitor training\n",
    "fig = plt.figure()\n",
    "ax = plt.gca()\n",
    "acc_line, = plt.plot(psi_radii, smean, label='mean')\n",
    "min_line, = plt.plot(psi_radii, smin, '--', color='C1', label='mean/max')\n",
    "max_line, = plt.plot(psi_radii, smax, '--', color='C1')\n",
    "plt.legend()\n",
    "plt.xlabel(r'$|\\psi|$')\n",
    "plt.ylabel('$\\sigma$ accuracy')\n",
    "display_id = display(fig, display_id=True)\n",
    "display_id.update(fig)\n",
    "\n",
    "\n",
    "for i in tqdm(range(n_steps)):\n",
    "    params, opt_state = update_step(next(rns), params, opt_state)\n",
    "    \n",
    "    if (i + 1) % plot_every == 0:\n",
    "        smean, smin, smax = eval_accuracy(next(rns), params)\n",
    "        acc_line.set_ydata(smean)\n",
    "        min_line.set_ydata(smin)\n",
    "        max_line.set_ydata(smax)\n",
    "        ax.relim()\n",
    "        ax.autoscale_view()\n",
    "        display_id.update(fig)\n",
    "\n",
    "plt.close()"
   ]
  }
 ],
 "metadata": {
  "kernelspec": {
   "display_name": "Python 3 (ipykernel)",
   "language": "python",
   "name": "python3"
  },
  "language_info": {
   "codemirror_mode": {
    "name": "ipython",
    "version": 3
   },
   "file_extension": ".py",
   "mimetype": "text/x-python",
   "name": "python",
   "nbconvert_exporter": "python",
   "pygments_lexer": "ipython3",
   "version": "3.10.8"
  }
 },
 "nbformat": 4,
 "nbformat_minor": 5
}
